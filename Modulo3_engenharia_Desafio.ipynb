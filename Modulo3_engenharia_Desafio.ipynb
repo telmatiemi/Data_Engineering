{
 "cells": [
  {
   "cell_type": "code",
   "execution_count": 1,
   "id": "c0b3ef6c",
   "metadata": {},
   "outputs": [
    {
     "name": "stderr",
     "output_type": "stream",
     "text": [
      "24/06/01 21:55:07 WARN GarbageCollectionMetrics: To enable non-built-in garbage collector(s) List(G1 Concurrent GC), users should configure it(them) to spark.eventLog.gcMetrics.youngGenerationGarbageCollectors or spark.eventLog.gcMetrics.oldGenerationGarbageCollectors\n"
     ]
    }
   ],
   "source": [
    "import sys\n",
    "import pyspark.sql\n",
    "from pyspark.sql import functions as F\n",
    "from pyspark.sql.types import BooleanType"
   ]
  },
  {
   "cell_type": "code",
   "execution_count": 2,
   "id": "91753cd3",
   "metadata": {},
   "outputs": [
    {
     "name": "stderr",
     "output_type": "stream",
     "text": [
      "24/06/01 21:56:31 WARN SparkSession: Using an existing Spark session; only runtime SQL configurations will take effect.\n"
     ]
    }
   ],
   "source": [
    "spark = SparkSession\\\n",
    "        .builder\\\n",
    "        .appName(\"Modulo 3 Desafio\")\\\n",
    "        .enableHiveSupport()\\\n",
    "        .getOrCreate()"
   ]
  },
  {
   "cell_type": "code",
   "execution_count": 3,
   "id": "0ed5a31e",
   "metadata": {},
   "outputs": [],
   "source": [
    "cnaes = '/home/telma/xpe/engenharia_dados/dados/cnaes/cnaes.csv'\n",
    "estab1 = '/home/telma/xpe/engenharia_dados/dados/estabelecimentos/estabelecimentos/estabelecimentos-1.csv'\n",
    "estab2 = '/home/telma/xpe/engenharia_dados/dados/estabelecimentos/estabelecimentos/estabelecimentos-2.csv'\n",
    "estab3 = '/home/telma/xpe/engenharia_dados/dados/estabelecimentos/estabelecimentos/estabelecimentos-3.csv'"
   ]
  },
  {
   "cell_type": "code",
   "execution_count": 4,
   "id": "ca0d408e",
   "metadata": {},
   "outputs": [],
   "source": [
    "df_cnae = spark.read.csv(cnaes, header=True, inferSchema=True, sep=';')"
   ]
  },
  {
   "cell_type": "code",
   "execution_count": 5,
   "id": "2eaf59be",
   "metadata": {},
   "outputs": [
    {
     "name": "stderr",
     "output_type": "stream",
     "text": [
      "                                                                                \r"
     ]
    }
   ],
   "source": [
    "df_estab1 = spark.read.csv(estab1, header=True, inferSchema=True, sep=';')"
   ]
  },
  {
   "cell_type": "code",
   "execution_count": 6,
   "id": "afa3f84b",
   "metadata": {},
   "outputs": [
    {
     "name": "stderr",
     "output_type": "stream",
     "text": [
      "                                                                                \r"
     ]
    }
   ],
   "source": [
    "df_estab2 = spark.read.csv(estab2, header=True, inferSchema=True, sep=';')"
   ]
  },
  {
   "cell_type": "code",
   "execution_count": 7,
   "id": "54b3ca2e",
   "metadata": {},
   "outputs": [
    {
     "name": "stderr",
     "output_type": "stream",
     "text": [
      "                                                                                \r"
     ]
    }
   ],
   "source": [
    "df_estab3 = spark.read.csv(estab3, header=True, inferSchema=True, sep=';')"
   ]
  },
  {
   "cell_type": "code",
   "execution_count": 8,
   "id": "e95936c0",
   "metadata": {},
   "outputs": [],
   "source": [
    "df_estab = df_estab1.union(df_estab2.union(df_estab3))"
   ]
  },
  {
   "cell_type": "code",
   "execution_count": 9,
   "id": "de53bd39",
   "metadata": {},
   "outputs": [
    {
     "name": "stderr",
     "output_type": "stream",
     "text": [
      "                                                                                \r"
     ]
    },
    {
     "data": {
      "text/plain": [
       "20996744"
      ]
     },
     "execution_count": 9,
     "metadata": {},
     "output_type": "execute_result"
    }
   ],
   "source": [
    "df_estab.count()"
   ]
  },
  {
   "cell_type": "code",
   "execution_count": 10,
   "id": "9ffb689e",
   "metadata": {},
   "outputs": [
    {
     "name": "stderr",
     "output_type": "stream",
     "text": [
      "24/06/01 21:58:18 WARN SparkStringUtils: Truncated the string representation of a plan since it was too large. This behavior can be adjusted by setting 'spark.sql.debug.maxToStringFields'.\n"
     ]
    }
   ],
   "source": [
    "df_estab.createOrReplaceTempView(\"estab\")"
   ]
  },
  {
   "cell_type": "markdown",
   "id": "ac360b0e",
   "metadata": {},
   "source": [
    "### 1) Quantos estabelecimentos existem?"
   ]
  },
  {
   "cell_type": "code",
   "execution_count": 11,
   "id": "866263cb",
   "metadata": {},
   "outputs": [
    {
     "name": "stderr",
     "output_type": "stream",
     "text": [
      "24/06/01 22:00:03 WARN RowBasedKeyValueBatch: Calling spill() on RowBasedKeyValueBatch. Will not spill but return 0.\n",
      "24/06/01 22:00:03 WARN RowBasedKeyValueBatch: Calling spill() on RowBasedKeyValueBatch. Will not spill but return 0.\n",
      "24/06/01 22:00:06 WARN RowBasedKeyValueBatch: Calling spill() on RowBasedKeyValueBatch. Will not spill but return 0.\n",
      "24/06/01 22:00:06 WARN RowBasedKeyValueBatch: Calling spill() on RowBasedKeyValueBatch. Will not spill but return 0.\n",
      "24/06/01 22:00:14 WARN RowBasedKeyValueBatch: Calling spill() on RowBasedKeyValueBatch. Will not spill but return 0.\n",
      "24/06/01 22:00:14 WARN RowBasedKeyValueBatch: Calling spill() on RowBasedKeyValueBatch. Will not spill but return 0.\n",
      "24/06/01 22:00:16 WARN RowBasedKeyValueBatch: Calling spill() on RowBasedKeyValueBatch. Will not spill but return 0.\n",
      "[Stage 13:===========================================>              (3 + 1) / 4]\r"
     ]
    },
    {
     "name": "stdout",
     "output_type": "stream",
     "text": [
      "+------------------------------------------------+\n",
      "|count(DISTINCT CNPJ_BASICO, CNPJ_ORDEM, CNPJ_DV)|\n",
      "+------------------------------------------------+\n",
      "|                                        20996744|\n",
      "+------------------------------------------------+\n",
      "\n"
     ]
    },
    {
     "name": "stderr",
     "output_type": "stream",
     "text": [
      "\r",
      "                                                                                \r"
     ]
    }
   ],
   "source": [
    "spark.sql(\"\"\"select count(distinct CNPJ_BASICO,CNPJ_ORDEM,CNPJ_DV) from estab \"\"\").show()"
   ]
  },
  {
   "cell_type": "markdown",
   "id": "464ab973",
   "metadata": {},
   "source": [
    "### 2) Quantas colunas existem na tabela estabelecimentos e quantas são identificadas como números?"
   ]
  },
  {
   "cell_type": "code",
   "execution_count": 14,
   "id": "651f9b54",
   "metadata": {},
   "outputs": [
    {
     "data": {
      "text/plain": [
       "30"
      ]
     },
     "execution_count": 14,
     "metadata": {},
     "output_type": "execute_result"
    }
   ],
   "source": [
    "# QTDE TOTAL DE COLUNAS\n",
    "len(df_estab.columns)"
   ]
  },
  {
   "cell_type": "code",
   "execution_count": 24,
   "id": "7490c079",
   "metadata": {},
   "outputs": [
    {
     "name": "stdout",
     "output_type": "stream",
     "text": [
      "13\n"
     ]
    }
   ],
   "source": [
    "# Quantidade de colunas identificadas como númericas.\n",
    "x = 0\n",
    "\n",
    "for i in df_estab.columns:\n",
    "    if dict(df_estab.dtypes)[i] != 'string':\n",
    "        x = x + 1\n",
    "\n",
    "print(x)"
   ]
  },
  {
   "cell_type": "markdown",
   "id": "088986b0",
   "metadata": {},
   "source": [
    "### 3) Gere arquivo parquet a partir de \"estabelecimentos\" e compare o tamanho dos arquivos parquet e csv originais."
   ]
  },
  {
   "cell_type": "code",
   "execution_count": null,
   "id": "66d6275a",
   "metadata": {},
   "outputs": [],
   "source": [
    "df_estab.write\\\n",
    "        .parquet('/home/telma/xpe/engenharia_dados/dados/estabelecimentos/estabelecimentos/estabelecimentos.parquet',\n",
    "                mode = 'overwrite')\n",
    "\n",
    "# .csv     -->> 3,781Gb\n",
    "# .parquet -->> 1,5Gb\n",
    "# (3,781 - 1,5)/1,5 = "
   ]
  },
  {
   "cell_type": "code",
   "execution_count": 25,
   "id": "e1b5d3c6",
   "metadata": {},
   "outputs": [
    {
     "data": {
      "text/plain": [
       "1.5206666666666668"
      ]
     },
     "execution_count": 25,
     "metadata": {},
     "output_type": "execute_result"
    }
   ],
   "source": [
    "# Economia de espaço\n",
    "\n",
    "csv = 3.781\n",
    "parquet = 1.5\n",
    "\n",
    "economia = (csv - parquet)/parquet\n",
    "\n",
    "economia"
   ]
  },
  {
   "cell_type": "markdown",
   "id": "f0ac59b4",
   "metadata": {},
   "source": [
    "### 4) Spark.sql ==>> Quantos estabelecimentos não tem logradouro informado."
   ]
  },
  {
   "cell_type": "code",
   "execution_count": 26,
   "id": "ed6aeaff",
   "metadata": {},
   "outputs": [
    {
     "name": "stderr",
     "output_type": "stream",
     "text": [
      "[Stage 17:======================================================> (30 + 1) / 31]\r"
     ]
    },
    {
     "name": "stdout",
     "output_type": "stream",
     "text": [
      "+--------+\n",
      "|count(1)|\n",
      "+--------+\n",
      "|     828|\n",
      "+--------+\n",
      "\n"
     ]
    },
    {
     "name": "stderr",
     "output_type": "stream",
     "text": [
      "\r",
      "                                                                                \r"
     ]
    }
   ],
   "source": [
    "spark.sql(\"select count(*) from estab where logradouro is null\").show()"
   ]
  },
  {
   "cell_type": "markdown",
   "id": "aa65a3ba",
   "metadata": {},
   "source": [
    "### 5) Quantos estabelecimentos ficam localizados numa avenida?"
   ]
  },
  {
   "cell_type": "code",
   "execution_count": 27,
   "id": "fc04e052",
   "metadata": {},
   "outputs": [],
   "source": [
    "def is_avenida(logradouro):\n",
    "    if str(logradouro).upper().startswith('AVENIDA'):\n",
    "        return True\n",
    "    else:\n",
    "        return False"
   ]
  },
  {
   "cell_type": "code",
   "execution_count": 28,
   "id": "b4ba86f1",
   "metadata": {},
   "outputs": [
    {
     "data": {
      "text/plain": [
       "<function __main__.is_avenida(logradouro)>"
      ]
     },
     "execution_count": 28,
     "metadata": {},
     "output_type": "execute_result"
    }
   ],
   "source": [
    "# is_avenidaUDF = F.udf(lambda logradouro: is_avenida(logradouro), BooleanType())\n",
    "spark.udf.register(\"is_avenidaUDF\", is_avenida, BooleanType())"
   ]
  },
  {
   "cell_type": "code",
   "execution_count": 29,
   "id": "8eae9814",
   "metadata": {},
   "outputs": [
    {
     "name": "stderr",
     "output_type": "stream",
     "text": [
      "[Stage 20:====================================================>   (29 + 2) / 31]\r"
     ]
    },
    {
     "name": "stdout",
     "output_type": "stream",
     "text": [
      "+--------+\n",
      "|count(1)|\n",
      "+--------+\n",
      "|   52587|\n",
      "+--------+\n",
      "\n"
     ]
    },
    {
     "name": "stderr",
     "output_type": "stream",
     "text": [
      "\r",
      "[Stage 20:======================================================> (30 + 1) / 31]\r",
      "\r",
      "                                                                                \r"
     ]
    }
   ],
   "source": [
    "spark.sql(\"\"\"\n",
    "          select count(*) from estab where is_avenidaUDF(logradouro) = True\n",
    "          \"\"\").show()"
   ]
  },
  {
   "cell_type": "markdown",
   "id": "03fcfd45",
   "metadata": {},
   "source": [
    "### 6) Quantos CEP's distintos existem em estabelecimentos?"
   ]
  },
  {
   "cell_type": "code",
   "execution_count": null,
   "id": "d00f4236",
   "metadata": {},
   "outputs": [],
   "source": [
    "###  Resposta 958396 não existe\n",
    "\n",
    "# spark.sql(\"select count(distinct CEP) from estab\").show()\n",
    "df_estab.select('CNPJ_BASICO', 'CNPJ_ORDEM', 'CNPJ_DV', 'CEP')\\\n",
    "        .agg(F.countDistinct(df_estab.CEP).alias(\"QT_CEPs\"))\\\n",
    "        .show()"
   ]
  },
  {
   "cell_type": "markdown",
   "id": "f155371d",
   "metadata": {},
   "source": [
    "### 7) Quantos CNAEs existem na tabela de CNAEs"
   ]
  },
  {
   "cell_type": "code",
   "execution_count": 30,
   "id": "8577653e",
   "metadata": {},
   "outputs": [],
   "source": [
    "df_cnae.createOrReplaceTempView(\"cnae\")"
   ]
  },
  {
   "cell_type": "code",
   "execution_count": 31,
   "id": "25b3a546",
   "metadata": {},
   "outputs": [
    {
     "name": "stdout",
     "output_type": "stream",
     "text": [
      "+--------------------+\n",
      "|count(DISTINCT cnae)|\n",
      "+--------------------+\n",
      "|                1359|\n",
      "+--------------------+\n",
      "\n"
     ]
    }
   ],
   "source": [
    "spark.sql(\"select count(distinct cnae) from cnae\").show()"
   ]
  },
  {
   "cell_type": "markdown",
   "id": "346d20d5",
   "metadata": {},
   "source": [
    "### 8) Quantos estabelecimentos estão relacionados a cultivo?"
   ]
  },
  {
   "cell_type": "code",
   "execution_count": 32,
   "id": "7d96e4b7",
   "metadata": {},
   "outputs": [],
   "source": [
    "def is_cnae_cultivo(desc_cnae):\n",
    "    if str(desc_cnae).upper().startswith(\"CULTIVO\"):\n",
    "        return True\n",
    "    else:\n",
    "        return False"
   ]
  },
  {
   "cell_type": "code",
   "execution_count": 33,
   "id": "de0e5cb0",
   "metadata": {},
   "outputs": [
    {
     "data": {
      "text/plain": [
       "<function __main__.is_cnae_cultivo(desc_cnae)>"
      ]
     },
     "execution_count": 33,
     "metadata": {},
     "output_type": "execute_result"
    }
   ],
   "source": [
    "spark.udf.register(\"is_cnae_cultivoUDF\", is_cnae_cultivo, BooleanType())"
   ]
  },
  {
   "cell_type": "code",
   "execution_count": 34,
   "id": "379e0fc7",
   "metadata": {},
   "outputs": [
    {
     "name": "stderr",
     "output_type": "stream",
     "text": [
      "[Stage 30:======================================================> (30 + 1) / 31]\r"
     ]
    },
    {
     "name": "stdout",
     "output_type": "stream",
     "text": [
      "+--------+\n",
      "|count(1)|\n",
      "+--------+\n",
      "|  200243|\n",
      "+--------+\n",
      "\n"
     ]
    },
    {
     "name": "stderr",
     "output_type": "stream",
     "text": [
      "\r",
      "                                                                                \r"
     ]
    }
   ],
   "source": [
    "spark.sql(\"\"\"\n",
    "select count(*) from estab e inner join cnae c \n",
    "    on e.CNAE_PRINCIPAL = c.CNAE \n",
    "  --  OR e.CNAE_SECUNDARIA = c.CNAE\n",
    "WHERE is_cnae_cultivoUDF(c.DESCRICAO_CNAE) = True\n",
    "\"\"\").show()"
   ]
  },
  {
   "cell_type": "markdown",
   "id": "54a4a9d8",
   "metadata": {},
   "source": [
    "### 11) Quantos estabelecimentos são filiais?"
   ]
  },
  {
   "cell_type": "code",
   "execution_count": 35,
   "id": "0fc28bc0",
   "metadata": {},
   "outputs": [
    {
     "name": "stderr",
     "output_type": "stream",
     "text": [
      "[Stage 33:======================================================> (30 + 1) / 31]\r"
     ]
    },
    {
     "name": "stdout",
     "output_type": "stream",
     "text": [
      "+------------------------------------------------+\n",
      "|count(DISTINCT CNPJ_BASICO, CNPJ_ORDEM, CNPJ_DV)|\n",
      "+------------------------------------------------+\n",
      "|                                         1093082|\n",
      "+------------------------------------------------+\n",
      "\n"
     ]
    },
    {
     "name": "stderr",
     "output_type": "stream",
     "text": [
      "\r",
      "[Stage 35:>                                                         (0 + 2) / 2]\r",
      "\r",
      "                                                                                \r"
     ]
    }
   ],
   "source": [
    "spark.sql(\"select count(distinct CNPJ_BASICO, CNPJ_ORDEM, CNPJ_DV) from estab where IDENTIFICADOR_MATRIZ_FILIAL =  2\").show()"
   ]
  }
 ],
 "metadata": {
  "kernelspec": {
   "display_name": "Python 3 (ipykernel)",
   "language": "python",
   "name": "python3"
  },
  "language_info": {
   "codemirror_mode": {
    "name": "ipython",
    "version": 3
   },
   "file_extension": ".py",
   "mimetype": "text/x-python",
   "name": "python",
   "nbconvert_exporter": "python",
   "pygments_lexer": "ipython3",
   "version": "3.12.3"
  }
 },
 "nbformat": 4,
 "nbformat_minor": 5
}
