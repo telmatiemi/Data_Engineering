{
 "cells": [
  {
   "cell_type": "code",
   "execution_count": 28,
   "id": "c0b3ef6c",
   "metadata": {},
   "outputs": [],
   "source": [
    "import sys\n",
    "import pyspark.sql\n",
    "from pyspark.sql import functions as F\n",
    "from pyspark.sql.types import BooleanType"
   ]
  },
  {
   "cell_type": "code",
   "execution_count": 2,
   "id": "91753cd3",
   "metadata": {},
   "outputs": [
    {
     "name": "stderr",
     "output_type": "stream",
     "text": [
      "24/06/01 14:19:47 WARN SparkSession: Using an existing Spark session; only runtime SQL configurations will take effect.\n"
     ]
    }
   ],
   "source": [
    "spark = SparkSession\\\n",
    "        .builder\\\n",
    "        .appName(\"Modulo 3 Desafio\")\\\n",
    "        .enableHiveSupport()\\\n",
    "        .getOrCreate()"
   ]
  },
  {
   "cell_type": "code",
   "execution_count": 3,
   "id": "0ed5a31e",
   "metadata": {},
   "outputs": [
    {
     "name": "stderr",
     "output_type": "stream",
     "text": [
      "24/06/01 14:19:59 WARN GarbageCollectionMetrics: To enable non-built-in garbage collector(s) List(G1 Concurrent GC), users should configure it(them) to spark.eventLog.gcMetrics.youngGenerationGarbageCollectors or spark.eventLog.gcMetrics.oldGenerationGarbageCollectors\n"
     ]
    }
   ],
   "source": [
    "cnaes = '/home/telma/xpe/engenharia_dados/dados/cnaes/cnaes.csv'\n",
    "estab1 = '/home/telma/xpe/engenharia_dados/dados/estabelecimentos/estabelecimentos/estabelecimentos-1.csv'\n",
    "estab2 = '/home/telma/xpe/engenharia_dados/dados/estabelecimentos/estabelecimentos/estabelecimentos-2.csv'\n",
    "estab3 = '/home/telma/xpe/engenharia_dados/dados/estabelecimentos/estabelecimentos/estabelecimentos-3.csv'"
   ]
  },
  {
   "cell_type": "code",
   "execution_count": 4,
   "id": "ca0d408e",
   "metadata": {},
   "outputs": [],
   "source": [
    "df_cnae = spark.read.csv(cnaes, header=True, inferSchema=True, sep=';')"
   ]
  },
  {
   "cell_type": "code",
   "execution_count": 5,
   "id": "2eaf59be",
   "metadata": {},
   "outputs": [
    {
     "name": "stderr",
     "output_type": "stream",
     "text": [
      "                                                                                \r"
     ]
    }
   ],
   "source": [
    "df_estab1 = spark.read.csv(estab1, header=True, inferSchema=True, sep=';')"
   ]
  },
  {
   "cell_type": "code",
   "execution_count": 8,
   "id": "afa3f84b",
   "metadata": {},
   "outputs": [
    {
     "name": "stderr",
     "output_type": "stream",
     "text": [
      "                                                                                \r"
     ]
    }
   ],
   "source": [
    "df_estab2 = spark.read.csv(estab2, header=True, inferSchema=True, sep=';')"
   ]
  },
  {
   "cell_type": "code",
   "execution_count": 9,
   "id": "54b3ca2e",
   "metadata": {},
   "outputs": [
    {
     "name": "stderr",
     "output_type": "stream",
     "text": [
      "                                                                                \r"
     ]
    }
   ],
   "source": [
    "df_estab3 = spark.read.csv(estab3, header=True, inferSchema=True, sep=';')"
   ]
  },
  {
   "cell_type": "code",
   "execution_count": 10,
   "id": "e95936c0",
   "metadata": {},
   "outputs": [],
   "source": [
    "df_estab = df_estab1.union(df_estab2.union(df_estab3))"
   ]
  },
  {
   "cell_type": "code",
   "execution_count": 19,
   "id": "de53bd39",
   "metadata": {},
   "outputs": [
    {
     "name": "stderr",
     "output_type": "stream",
     "text": [
      "                                                                                \r"
     ]
    },
    {
     "data": {
      "text/plain": [
       "20996744"
      ]
     },
     "execution_count": 19,
     "metadata": {},
     "output_type": "execute_result"
    }
   ],
   "source": [
    "df_estab.count()"
   ]
  },
  {
   "cell_type": "code",
   "execution_count": 12,
   "id": "9ffb689e",
   "metadata": {},
   "outputs": [],
   "source": [
    "df_estab.createOrReplaceTempView(\"estab\")"
   ]
  },
  {
   "cell_type": "markdown",
   "id": "ac360b0e",
   "metadata": {},
   "source": [
    "### 1) Quantos estabelecimentos existem?"
   ]
  },
  {
   "cell_type": "code",
   "execution_count": 13,
   "id": "866263cb",
   "metadata": {},
   "outputs": [
    {
     "name": "stderr",
     "output_type": "stream",
     "text": [
      "24/06/01 14:34:46 WARN RowBasedKeyValueBatch: Calling spill() on RowBasedKeyValueBatch. Will not spill but return 0.\n",
      "24/06/01 14:34:46 WARN RowBasedKeyValueBatch: Calling spill() on RowBasedKeyValueBatch. Will not spill but return 0.\n",
      "24/06/01 14:34:49 WARN RowBasedKeyValueBatch: Calling spill() on RowBasedKeyValueBatch. Will not spill but return 0.\n",
      "24/06/01 14:34:49 WARN RowBasedKeyValueBatch: Calling spill() on RowBasedKeyValueBatch. Will not spill but return 0.\n",
      "24/06/01 14:34:54 WARN RowBasedKeyValueBatch: Calling spill() on RowBasedKeyValueBatch. Will not spill but return 0.\n",
      "24/06/01 14:34:55 WARN RowBasedKeyValueBatch: Calling spill() on RowBasedKeyValueBatch. Will not spill but return 0.\n",
      "24/06/01 14:34:57 WARN RowBasedKeyValueBatch: Calling spill() on RowBasedKeyValueBatch. Will not spill but return 0.\n",
      "[Stage 13:===========================================>              (3 + 1) / 4]\r"
     ]
    },
    {
     "name": "stdout",
     "output_type": "stream",
     "text": [
      "+------------------------------------------------+\n",
      "|count(DISTINCT CNPJ_BASICO, CNPJ_ORDEM, CNPJ_DV)|\n",
      "+------------------------------------------------+\n",
      "|                                        20996744|\n",
      "+------------------------------------------------+\n",
      "\n"
     ]
    },
    {
     "name": "stderr",
     "output_type": "stream",
     "text": [
      "\r",
      "                                                                                \r"
     ]
    }
   ],
   "source": [
    "\n",
    "spark.sql(\"\"\"select count(distinct CNPJ_BASICO,CNPJ_ORDEM,CNPJ_DV) from estab \"\"\").show()"
   ]
  },
  {
   "cell_type": "markdown",
   "id": "464ab973",
   "metadata": {},
   "source": [
    "### 2) Quantas colunas existem na tabela estabelecimentos e quantas são identificadas como números?"
   ]
  },
  {
   "cell_type": "code",
   "execution_count": 15,
   "id": "0fe71ae8",
   "metadata": {},
   "outputs": [
    {
     "name": "stdout",
     "output_type": "stream",
     "text": [
      "root\n",
      " |-- CNPJ_BASICO: integer (nullable = true)\n",
      " |-- CNPJ_ORDEM: integer (nullable = true)\n",
      " |-- CNPJ_DV: integer (nullable = true)\n",
      " |-- IDENTIFICADOR_MATRIZ_FILIAL: integer (nullable = true)\n",
      " |-- NOME_FANTASIA: string (nullable = true)\n",
      " |-- SITUACAO_CADASTRAL: integer (nullable = true)\n",
      " |-- DATA_SITUACAO_CADASTRAL: integer (nullable = true)\n",
      " |-- MOTIVO_SITUACAO_CADASTRAL: integer (nullable = true)\n",
      " |-- NOME_DA_CIDADE_NO_EXTERIOR: string (nullable = true)\n",
      " |-- PAIS: integer (nullable = true)\n",
      " |-- DATA_INICIO_ATIVIDADE: integer (nullable = true)\n",
      " |-- CNAE_PRINCIPAL: integer (nullable = true)\n",
      " |-- CNAE_SECUNDARIA: string (nullable = true)\n",
      " |-- TIPO_LOGRADOURO: string (nullable = true)\n",
      " |-- LOGRADOURO: string (nullable = true)\n",
      " |-- NUMERO: string (nullable = true)\n",
      " |-- COMPLEMENTO: string (nullable = true)\n",
      " |-- BAIRRO: string (nullable = true)\n",
      " |-- CEP: string (nullable = true)\n",
      " |-- UF: string (nullable = true)\n",
      " |-- MUNICIPIO: integer (nullable = true)\n",
      " |-- DDD_1: string (nullable = true)\n",
      " |-- TEL_1: string (nullable = true)\n",
      " |-- DDD_2: string (nullable = true)\n",
      " |-- TEL_2: string (nullable = true)\n",
      " |-- DDD_FAX: double (nullable = true)\n",
      " |-- FAX: string (nullable = true)\n",
      " |-- CORREIO_ELETRONICO: string (nullable = true)\n",
      " |-- SITUACAO_ESPECIAL: string (nullable = true)\n",
      " |-- DATA_SITUACAO_ESPECIAL: integer (nullable = true)\n",
      "\n"
     ]
    }
   ],
   "source": [
    "df_estab.printSchema()"
   ]
  },
  {
   "cell_type": "markdown",
   "id": "088986b0",
   "metadata": {},
   "source": [
    "### 3) Gere arquivo parquet a partir de \"estabelecimentos\" e compare o tamanho dos arquivos parquet e csv originais."
   ]
  },
  {
   "cell_type": "code",
   "execution_count": 16,
   "id": "66d6275a",
   "metadata": {},
   "outputs": [
    {
     "name": "stderr",
     "output_type": "stream",
     "text": [
      "                                                                                \r"
     ]
    }
   ],
   "source": [
    "df_estab.write\\\n",
    "        .parquet('/home/telma/xpe/engenharia_dados/dados/estabelecimentos/estabelecimentos/estabelecimentos.parquet',\n",
    "                mode = 'overwrite')"
   ]
  },
  {
   "cell_type": "markdown",
   "id": "f0ac59b4",
   "metadata": {},
   "source": [
    "### 4) Spark.sql ==>> Quantos estabelecimentos não tem logradouro informado."
   ]
  },
  {
   "cell_type": "code",
   "execution_count": 18,
   "id": "ed6aeaff",
   "metadata": {},
   "outputs": [
    {
     "name": "stderr",
     "output_type": "stream",
     "text": [
      "[Stage 18:======================================================> (30 + 1) / 31]\r"
     ]
    },
    {
     "name": "stdout",
     "output_type": "stream",
     "text": [
      "+--------+\n",
      "|count(1)|\n",
      "+--------+\n",
      "|     828|\n",
      "+--------+\n",
      "\n"
     ]
    },
    {
     "name": "stderr",
     "output_type": "stream",
     "text": [
      "\r",
      "                                                                                \r"
     ]
    }
   ],
   "source": [
    "spark.sql(\"select count(*) from estab where logradouro is null\").show()"
   ]
  },
  {
   "cell_type": "markdown",
   "id": "aa65a3ba",
   "metadata": {},
   "source": [
    "### 5) Quantos estabelecimentos ficam localizados numa avenida?"
   ]
  },
  {
   "cell_type": "code",
   "execution_count": 25,
   "id": "fc04e052",
   "metadata": {},
   "outputs": [],
   "source": [
    "def is_avenida(logradouro):\n",
    "    if str(logradouro).upper().startswith('AVENIDA'):\n",
    "        return True\n",
    "    else:\n",
    "        return False"
   ]
  },
  {
   "cell_type": "code",
   "execution_count": 32,
   "id": "b4ba86f1",
   "metadata": {},
   "outputs": [
    {
     "data": {
      "text/plain": [
       "<function __main__.is_avenida(logradouro)>"
      ]
     },
     "execution_count": 32,
     "metadata": {},
     "output_type": "execute_result"
    }
   ],
   "source": [
    "# is_avenidaUDF = F.udf(lambda logradouro: is_avenida(logradouro), BooleanType())\n",
    "spark.udf.register(\"is_avenidaUDF\", is_avenida, BooleanType())"
   ]
  },
  {
   "cell_type": "code",
   "execution_count": 33,
   "id": "8eae9814",
   "metadata": {},
   "outputs": [
    {
     "name": "stderr",
     "output_type": "stream",
     "text": [
      "[Stage 24:======================================================> (30 + 1) / 31]\r"
     ]
    },
    {
     "name": "stdout",
     "output_type": "stream",
     "text": [
      "+--------+\n",
      "|count(1)|\n",
      "+--------+\n",
      "|   52587|\n",
      "+--------+\n",
      "\n"
     ]
    },
    {
     "name": "stderr",
     "output_type": "stream",
     "text": [
      "\r",
      "                                                                                \r"
     ]
    }
   ],
   "source": [
    "spark.sql(\"\"\"\n",
    "          select count(*) from estab where is_avenidaUDF(logradouro) = True\n",
    "          \"\"\").show()"
   ]
  },
  {
   "cell_type": "markdown",
   "id": "03fcfd45",
   "metadata": {},
   "source": [
    "### 6) Quantos CEP's distintos existem em estabelecimentos?"
   ]
  },
  {
   "cell_type": "code",
   "execution_count": 37,
   "id": "d00f4236",
   "metadata": {},
   "outputs": [
    {
     "name": "stderr",
     "output_type": "stream",
     "text": [
      "[Stage 35:>                                                         (0 + 2) / 2]\r"
     ]
    },
    {
     "name": "stdout",
     "output_type": "stream",
     "text": [
      "+-------------------+\n",
      "|count(DISTINCT CEP)|\n",
      "+-------------------+\n",
      "|             958396|\n",
      "+-------------------+\n",
      "\n"
     ]
    },
    {
     "name": "stderr",
     "output_type": "stream",
     "text": [
      "\r",
      "[Stage 35:=============================>                            (1 + 1) / 2]\r",
      "\r",
      "                                                                                \r"
     ]
    }
   ],
   "source": [
    "###  Resposta 958396 não existe\n",
    "\n",
    "# spark.sql(\"select count(distinct CEP) from estab\").show()\n",
    "df_estab.agg(F.countDistinct(df_estab.CEP)).show()"
   ]
  },
  {
   "cell_type": "markdown",
   "id": "f155371d",
   "metadata": {},
   "source": [
    "### 7) Quantos CNAEs existem na tabela de CNAEs"
   ]
  },
  {
   "cell_type": "code",
   "execution_count": 38,
   "id": "8577653e",
   "metadata": {},
   "outputs": [],
   "source": [
    "df_cnae.createOrReplaceTempView(\"cnae\")"
   ]
  },
  {
   "cell_type": "code",
   "execution_count": 40,
   "id": "25b3a546",
   "metadata": {},
   "outputs": [
    {
     "name": "stdout",
     "output_type": "stream",
     "text": [
      "+--------------------+\n",
      "|count(DISTINCT cnae)|\n",
      "+--------------------+\n",
      "|                1359|\n",
      "+--------------------+\n",
      "\n"
     ]
    }
   ],
   "source": [
    "spark.sql(\"select count(distinct cnae) from cnae\").show()"
   ]
  },
  {
   "cell_type": "markdown",
   "id": "346d20d5",
   "metadata": {},
   "source": [
    "### 8) Quantos estabelecimentos estão relacionados a cultivo?"
   ]
  },
  {
   "cell_type": "code",
   "execution_count": 45,
   "id": "7d96e4b7",
   "metadata": {},
   "outputs": [],
   "source": [
    "def is_cnae_cultivo(desc_cnae):\n",
    "    if str(desc_cnae).upper().startswith(\"CULTIVO\"):\n",
    "        return True\n",
    "    else:\n",
    "        return False"
   ]
  },
  {
   "cell_type": "code",
   "execution_count": 46,
   "id": "de0e5cb0",
   "metadata": {},
   "outputs": [
    {
     "name": "stderr",
     "output_type": "stream",
     "text": [
      "24/06/01 16:02:45 WARN SimpleFunctionRegistry: The function is_cnae_cultivoudf replaced a previously registered function.\n"
     ]
    },
    {
     "data": {
      "text/plain": [
       "<function __main__.is_cnae_cultivo(desc_cnae)>"
      ]
     },
     "execution_count": 46,
     "metadata": {},
     "output_type": "execute_result"
    }
   ],
   "source": [
    "spark.udf.register(\"is_cnae_cultivoUDF\", is_cnae_cultivo, BooleanType())"
   ]
  },
  {
   "cell_type": "code",
   "execution_count": 49,
   "id": "379e0fc7",
   "metadata": {},
   "outputs": [
    {
     "name": "stderr",
     "output_type": "stream",
     "text": [
      "[Stage 53:======================================================> (30 + 1) / 31]\r"
     ]
    },
    {
     "name": "stdout",
     "output_type": "stream",
     "text": [
      "+--------+\n",
      "|count(1)|\n",
      "+--------+\n",
      "|  200243|\n",
      "+--------+\n",
      "\n"
     ]
    },
    {
     "name": "stderr",
     "output_type": "stream",
     "text": [
      "\r",
      "                                                                                \r"
     ]
    }
   ],
   "source": [
    "spark.sql(\"\"\"\n",
    "select count(*) from estab e inner join cnae c \n",
    "    on e.CNAE_PRINCIPAL = c.CNAE \n",
    "  --  OR e.CNAE_SECUNDARIA = c.CNAE\n",
    "WHERE is_cnae_cultivoUDF(c.DESCRICAO_CNAE) = True\n",
    "\"\"\").show()"
   ]
  },
  {
   "cell_type": "markdown",
   "id": "54a4a9d8",
   "metadata": {},
   "source": [
    "### 11) Quantos estabelecimentos são filiais?"
   ]
  },
  {
   "cell_type": "code",
   "execution_count": 50,
   "id": "0fc28bc0",
   "metadata": {},
   "outputs": [
    {
     "name": "stderr",
     "output_type": "stream",
     "text": [
      "[Stage 58:>                                                         (0 + 2) / 2]\r"
     ]
    },
    {
     "name": "stdout",
     "output_type": "stream",
     "text": [
      "+------------------------------------------------+\n",
      "|count(DISTINCT CNPJ_BASICO, CNPJ_ORDEM, CNPJ_DV)|\n",
      "+------------------------------------------------+\n",
      "|                                         1093082|\n",
      "+------------------------------------------------+\n",
      "\n"
     ]
    },
    {
     "name": "stderr",
     "output_type": "stream",
     "text": [
      "\r",
      "[Stage 58:=============================>                            (1 + 1) / 2]\r",
      "\r",
      "                                                                                \r"
     ]
    }
   ],
   "source": [
    "spark.sql(\"select count(distinct CNPJ_BASICO, CNPJ_ORDEM, CNPJ_DV) from estab where IDENTIFICADOR_MATRIZ_FILIAL =  2\").show()"
   ]
  }
 ],
 "metadata": {
  "kernelspec": {
   "display_name": "Python 3 (ipykernel)",
   "language": "python",
   "name": "python3"
  },
  "language_info": {
   "codemirror_mode": {
    "name": "ipython",
    "version": 3
   },
   "file_extension": ".py",
   "mimetype": "text/x-python",
   "name": "python",
   "nbconvert_exporter": "python",
   "pygments_lexer": "ipython3",
   "version": "3.12.3"
  }
 },
 "nbformat": 4,
 "nbformat_minor": 5
}
