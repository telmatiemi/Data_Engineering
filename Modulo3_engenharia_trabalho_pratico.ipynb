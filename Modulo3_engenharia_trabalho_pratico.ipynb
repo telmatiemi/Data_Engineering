{
 "cells": [
  {
   "cell_type": "code",
   "execution_count": 3,
   "id": "3a53599b",
   "metadata": {},
   "outputs": [],
   "source": [
    "import sys\n",
    "import pyspark.sql\n",
    "from pyspark.sql import functions as F\n"
   ]
  },
  {
   "cell_type": "code",
   "execution_count": 6,
   "id": "540a0a00",
   "metadata": {},
   "outputs": [
    {
     "name": "stderr",
     "output_type": "stream",
     "text": [
      "24/05/25 11:47:36 WARN SparkSession: Using an existing Spark session; only runtime SQL configurations will take effect.\n"
     ]
    }
   ],
   "source": [
    "spark = SparkSession.builder.appName(\"Modulo 3 Trabalho Pratico\").getOrCreate()"
   ]
  },
  {
   "cell_type": "code",
   "execution_count": 7,
   "id": "7cb1146c",
   "metadata": {},
   "outputs": [],
   "source": [
    "basics = '/home/telma/xpe/engenharia_dados/title_basics.tsv'\n",
    "ratings = '/home/telma/xpe/engenharia_dados/title_ratings.tsv'"
   ]
  },
  {
   "cell_type": "code",
   "execution_count": 8,
   "id": "74881034",
   "metadata": {},
   "outputs": [
    {
     "name": "stderr",
     "output_type": "stream",
     "text": [
      "                                                                                \r"
     ]
    }
   ],
   "source": [
    "df_titles = spark.read.csv(basics, header=True, inferSchema=True, sep='\\t')"
   ]
  },
  {
   "cell_type": "code",
   "execution_count": 10,
   "id": "d3a6ba2e",
   "metadata": {},
   "outputs": [
    {
     "name": "stderr",
     "output_type": "stream",
     "text": [
      "\r",
      "[Stage 3:>                                                          (0 + 2) / 2]\r",
      "\r",
      "[Stage 3:=============================>                             (1 + 1) / 2]\r",
      "\r",
      "                                                                                \r"
     ]
    }
   ],
   "source": [
    "df_ratings = spark.read.csv(ratings, header=True, inferSchema=True, sep='\\t')"
   ]
  },
  {
   "cell_type": "code",
   "execution_count": 13,
   "id": "a59bb3fb",
   "metadata": {},
   "outputs": [
    {
     "name": "stderr",
     "output_type": "stream",
     "text": [
      "[Stage 10:================================================>         (5 + 1) / 6]\r"
     ]
    },
    {
     "name": "stdout",
     "output_type": "stream",
     "text": [
      "Arquivo basics possui 8203690 registros.\n"
     ]
    },
    {
     "name": "stderr",
     "output_type": "stream",
     "text": [
      "\r",
      "                                                                                \r"
     ]
    }
   ],
   "source": [
    "x = df_titles.count()\n",
    "print(f\"Arquivo basics possui {x} registros.\")"
   ]
  },
  {
   "cell_type": "code",
   "execution_count": 14,
   "id": "fb65436f",
   "metadata": {},
   "outputs": [
    {
     "name": "stdout",
     "output_type": "stream",
     "text": [
      "Arquivo ratings possui 1182639 registros.\n"
     ]
    }
   ],
   "source": [
    "y = df_ratings.count()\n",
    "print(f\"Arquivo ratings possui {y} registros.\")"
   ]
  },
  {
   "cell_type": "code",
   "execution_count": 18,
   "id": "b5a39bf1",
   "metadata": {},
   "outputs": [],
   "source": [
    "# Dataframe que relaciona basics e ratings\n",
    "df_join = df_titles.join(df_ratings,\"tconst\", \"left_outer\")"
   ]
  },
  {
   "cell_type": "code",
   "execution_count": 19,
   "id": "fbb64789",
   "metadata": {},
   "outputs": [
    {
     "name": "stderr",
     "output_type": "stream",
     "text": [
      "[Stage 22:>                                                         (0 + 1) / 1]\r"
     ]
    },
    {
     "name": "stdout",
     "output_type": "stream",
     "text": [
      "+----------+---------+-------------------------------------+-------------------------------------+-------+---------+-------+--------------+---------------+-------------+--------+\n",
      "|tconst    |titleType|primaryTitle                         |originalTitle                        |isAdult|startYear|endYear|runtimeMinutes|genres         |averageRating|numVotes|\n",
      "+----------+---------+-------------------------------------+-------------------------------------+-------+---------+-------+--------------+---------------+-------------+--------+\n",
      "|tt0000002 |short    |Le clown et ses chiens               |Le clown et ses chiens               |0      |1892     |\\N     |5             |Animation,Short|6.0          |233     |\n",
      "|tt0000004 |short    |Un bon bock                          |Un bon bock                          |0      |1892     |\\N     |12            |Animation,Short|6.1          |152     |\n",
      "|tt11106020|tvEpisode|Mästarna är tillbaka!                |Mästarna är tillbaka!                |0      |2019     |\\N     |\\N            |Game-Show      |NULL         |NULL    |\n",
      "|tt11106024|tvEpisode|Kan drottning Silvia åtalas för mord?|Kan drottning Silvia åtalas för mord?|0      |2019     |\\N     |\\N            |Game-Show      |NULL         |NULL    |\n",
      "|tt13851630|tvEpisode|Episode #1.1000                      |Episode #1.1000                      |0      |\\N       |\\N     |\\N            |Talk-Show      |NULL         |NULL    |\n",
      "|tt13851636|tvSeries |Erthel                               |Erthel                               |0      |\\N       |\\N     |\\N            |Crime,Drama    |NULL         |NULL    |\n",
      "+----------+---------+-------------------------------------+-------------------------------------+-------+---------+-------+--------------+---------------+-------------+--------+\n",
      "only showing top 6 rows\n",
      "\n"
     ]
    },
    {
     "name": "stderr",
     "output_type": "stream",
     "text": [
      "\r",
      "                                                                                \r"
     ]
    }
   ],
   "source": [
    "df_join.show(6, False)"
   ]
  },
  {
   "cell_type": "code",
   "execution_count": 25,
   "id": "1659b6f1",
   "metadata": {},
   "outputs": [
    {
     "name": "stderr",
     "output_type": "stream",
     "text": [
      "[Stage 29:================================================>         (5 + 1) / 6]\r"
     ]
    },
    {
     "name": "stdout",
     "output_type": "stream",
     "text": [
      "+------------+\n",
      "|   titleType|\n",
      "+------------+\n",
      "|       movie|\n",
      "|radioEpisode|\n",
      "| radioSeries|\n",
      "|       short|\n",
      "|   tvEpisode|\n",
      "|tvMiniSeries|\n",
      "|     tvMovie|\n",
      "|     tvPilot|\n",
      "|    tvSeries|\n",
      "|     tvShort|\n",
      "|   tvSpecial|\n",
      "|       video|\n",
      "|   videoGame|\n",
      "+------------+\n",
      "\n"
     ]
    },
    {
     "name": "stderr",
     "output_type": "stream",
     "text": [
      "\r",
      "                                                                                \r"
     ]
    }
   ],
   "source": [
    "df_titles.select(\"titleType\").distinct().sort(\"titleType\").show(15)"
   ]
  },
  {
   "cell_type": "code",
   "execution_count": 31,
   "id": "0e817dfe",
   "metadata": {},
   "outputs": [
    {
     "name": "stderr",
     "output_type": "stream",
     "text": [
      "                                                                                \r"
     ]
    },
    {
     "data": {
      "text/plain": [
       "19987"
      ]
     },
     "execution_count": 31,
     "metadata": {},
     "output_type": "execute_result"
    }
   ],
   "source": [
    "df_titles.filter(\"lower(titleType) like ('%movie') and startYear = 2015\").count()"
   ]
  },
  {
   "cell_type": "code",
   "execution_count": 42,
   "id": "7274273d",
   "metadata": {},
   "outputs": [],
   "source": [
    "df_split = df_join.withColumn(\"genre_exp\", F.split(\"genres\", \",\", 3))"
   ]
  },
  {
   "cell_type": "code",
   "execution_count": 43,
   "id": "26f19a55",
   "metadata": {},
   "outputs": [
    {
     "name": "stderr",
     "output_type": "stream",
     "text": [
      "[Stage 52:=============================>                            (1 + 1) / 2]\r"
     ]
    },
    {
     "name": "stdout",
     "output_type": "stream",
     "text": [
      "+----------+---------+-------------------------------------+-------------------------------------+-------+---------+-------+--------------+---------------+-------------+--------+------------------+\n",
      "|tconst    |titleType|primaryTitle                         |originalTitle                        |isAdult|startYear|endYear|runtimeMinutes|genres         |averageRating|numVotes|genre_exp         |\n",
      "+----------+---------+-------------------------------------+-------------------------------------+-------+---------+-------+--------------+---------------+-------------+--------+------------------+\n",
      "|tt0000002 |short    |Le clown et ses chiens               |Le clown et ses chiens               |0      |1892     |\\N     |5             |Animation,Short|6.0          |233     |[Animation, Short]|\n",
      "|tt0000004 |short    |Un bon bock                          |Un bon bock                          |0      |1892     |\\N     |12            |Animation,Short|6.1          |152     |[Animation, Short]|\n",
      "|tt11106020|tvEpisode|Mästarna är tillbaka!                |Mästarna är tillbaka!                |0      |2019     |\\N     |\\N            |Game-Show      |NULL         |NULL    |[Game-Show]       |\n",
      "|tt11106024|tvEpisode|Kan drottning Silvia åtalas för mord?|Kan drottning Silvia åtalas för mord?|0      |2019     |\\N     |\\N            |Game-Show      |NULL         |NULL    |[Game-Show]       |\n",
      "|tt13851630|tvEpisode|Episode #1.1000                      |Episode #1.1000                      |0      |\\N       |\\N     |\\N            |Talk-Show      |NULL         |NULL    |[Talk-Show]       |\n",
      "|tt13851636|tvSeries |Erthel                               |Erthel                               |0      |\\N       |\\N     |\\N            |Crime,Drama    |NULL         |NULL    |[Crime, Drama]    |\n",
      "+----------+---------+-------------------------------------+-------------------------------------+-------+---------+-------+--------------+---------------+-------------+--------+------------------+\n",
      "only showing top 6 rows\n",
      "\n"
     ]
    },
    {
     "name": "stderr",
     "output_type": "stream",
     "text": [
      "\r",
      "                                                                                \r"
     ]
    }
   ],
   "source": [
    "df_split.show(6, False)"
   ]
  },
  {
   "cell_type": "code",
   "execution_count": 59,
   "id": "d4fdd64b",
   "metadata": {},
   "outputs": [],
   "source": [
    "df_genero = df_split.select(\"*\").withColumn(\"genre\", F.explode(df_split.genre_exp))"
   ]
  },
  {
   "cell_type": "code",
   "execution_count": 60,
   "id": "dd463cd0",
   "metadata": {},
   "outputs": [
    {
     "name": "stderr",
     "output_type": "stream",
     "text": [
      "[Stage 106:>                                                        (0 + 1) / 1]\r"
     ]
    },
    {
     "name": "stdout",
     "output_type": "stream",
     "text": [
      "+---------+---------+--------------------------------------+--------------------------------------+-------+---------+-------+--------------+-----------------+-------------+--------+--------------------+-----------+\n",
      "|tconst   |titleType|primaryTitle                          |originalTitle                         |isAdult|startYear|endYear|runtimeMinutes|genres           |averageRating|numVotes|genre_exp           |genre      |\n",
      "+---------+---------+--------------------------------------+--------------------------------------+-------+---------+-------+--------------+-----------------+-------------+--------+--------------------+-----------+\n",
      "|tt0000008|short    |Edison Kinetoscopic Record of a Sneeze|Edison Kinetoscopic Record of a Sneeze|0      |1894     |\\N     |1             |Documentary,Short|5.5          |1965    |[Documentary, Short]|Documentary|\n",
      "|tt0000008|short    |Edison Kinetoscopic Record of a Sneeze|Edison Kinetoscopic Record of a Sneeze|0      |1894     |\\N     |1             |Documentary,Short|5.5          |1965    |[Documentary, Short]|Short      |\n",
      "|tt0000015|short    |Autour d'une cabine                   |Autour d'une cabine                   |0      |1894     |\\N     |2             |Animation,Short  |6.2          |947     |[Animation, Short]  |Animation  |\n",
      "|tt0000015|short    |Autour d'une cabine                   |Autour d'une cabine                   |0      |1894     |\\N     |2             |Animation,Short  |6.2          |947     |[Animation, Short]  |Short      |\n",
      "|tt0000019|short    |The Clown Barber                      |The Clown Barber                      |0      |1898     |\\N     |\\N            |Comedy,Short     |5.3          |28      |[Comedy, Short]     |Comedy     |\n",
      "+---------+---------+--------------------------------------+--------------------------------------+-------+---------+-------+--------------+-----------------+-------------+--------+--------------------+-----------+\n",
      "only showing top 5 rows\n",
      "\n"
     ]
    },
    {
     "name": "stderr",
     "output_type": "stream",
     "text": [
      "\r",
      "                                                                                \r"
     ]
    }
   ],
   "source": [
    "df_genero.show(5, False)"
   ]
  },
  {
   "cell_type": "code",
   "execution_count": 62,
   "id": "33a34a5b",
   "metadata": {},
   "outputs": [
    {
     "name": "stderr",
     "output_type": "stream",
     "text": [
      "24/05/25 12:58:30 WARN RowBasedKeyValueBatch: Calling spill() on RowBasedKeyValueBatch. Will not spill but return 0.\n",
      "24/05/25 12:58:30 WARN RowBasedKeyValueBatch: Calling spill() on RowBasedKeyValueBatch. Will not spill but return 0.\n",
      "[Stage 111:======================================>                  (2 + 1) / 3]\r"
     ]
    },
    {
     "name": "stdout",
     "output_type": "stream",
     "text": [
      "+-----------+-------+\n",
      "|      genre|    QTD|\n",
      "+-----------+-------+\n",
      "|      Drama|2247995|\n",
      "|     Comedy|1653725|\n",
      "|      Short|1021850|\n",
      "|  Talk-Show| 900198|\n",
      "|Documentary| 764885|\n",
      "+-----------+-------+\n",
      "only showing top 5 rows\n",
      "\n"
     ]
    },
    {
     "name": "stderr",
     "output_type": "stream",
     "text": [
      "\r",
      "                                                                                \r"
     ]
    }
   ],
   "source": [
    "# Gẽnero de títulos mais frequente\n",
    "df_genero.groupBy(\"genre\").agg(F.count(\"genre\").alias(\"QTD\")).orderBy(\"QTD\", ascending = 0).show(5)"
   ]
  },
  {
   "cell_type": "code",
   "execution_count": 63,
   "id": "32fb536a",
   "metadata": {},
   "outputs": [
    {
     "name": "stderr",
     "output_type": "stream",
     "text": [
      "24/05/25 13:00:00 WARN RowBasedKeyValueBatch: Calling spill() on RowBasedKeyValueBatch. Will not spill but return 0.\n",
      "24/05/25 13:00:00 WARN RowBasedKeyValueBatch: Calling spill() on RowBasedKeyValueBatch. Will not spill but return 0.\n",
      "[Stage 120:======================================>                  (2 + 1) / 3]\r"
     ]
    },
    {
     "name": "stdout",
     "output_type": "stream",
     "text": [
      "+-----------+-----------------+\n",
      "|genre      |Rating           |\n",
      "+-----------+-----------------+\n",
      "|History    |7.353780102645096|\n",
      "|Documentary|7.240198535554567|\n",
      "|Biography  |7.175531914893609|\n",
      "|Mystery    |7.170086406897949|\n",
      "|Crime      |7.159842868485928|\n",
      "+-----------+-----------------+\n",
      "only showing top 5 rows\n",
      "\n"
     ]
    },
    {
     "name": "stderr",
     "output_type": "stream",
     "text": [
      "\r",
      "                                                                                \r"
     ]
    }
   ],
   "source": [
    "# Gênero com a melhor nota média\n",
    "df_genero.groupBy(\"genre\").agg(F.mean(\"averageRating\").alias(\"Rating\")).orderBy(\"Rating\", ascending = False).show(5, False)"
   ]
  },
  {
   "cell_type": "code",
   "execution_count": 65,
   "id": "a9251a34",
   "metadata": {},
   "outputs": [
    {
     "name": "stderr",
     "output_type": "stream",
     "text": [
      "[Stage 131:============================>                            (1 + 1) / 2]\r"
     ]
    },
    {
     "name": "stdout",
     "output_type": "stream",
     "text": [
      "+----------+---------+-----------------------------+-----------------------------+-------+---------+-------+--------------+------------------------+-------------+--------+----------------------------+---------+\n",
      "|tconst    |titleType|primaryTitle                 |originalTitle                |isAdult|startYear|endYear|runtimeMinutes|genres                  |averageRating|numVotes|genre_exp                   |genre    |\n",
      "+----------+---------+-----------------------------+-----------------------------+-------+---------+-------+--------------+------------------------+-------------+--------+----------------------------+---------+\n",
      "|tt11321196|videoGame|Half-Life: Alyx              |Half-Life: Alyx              |0      |2020     |\\N     |\\N            |Action,Adventure,Horror |9.5          |506     |[Action, Adventure, Horror] |Adventure|\n",
      "|tt7651352 |videoGame|Ghost of Tsushima            |Ghost of Tsushima            |0      |2020     |\\N     |\\N            |Action,Adventure,Drama  |9.3          |5270    |[Action, Adventure, Drama]  |Adventure|\n",
      "|tt14106780|videoGame|Omori                        |Omori                        |0      |2020     |\\N     |\\N            |Adventure,Drama,Fantasy |9.2          |79      |[Adventure, Drama, Fantasy] |Adventure|\n",
      "|tt8329350 |videoGame|Ori and the Will of the Wisps|Ori and the Will of the Wisps|0      |2020     |\\N     |\\N            |Adventure,Fantasy       |9.1          |724     |[Adventure, Fantasy]        |Adventure|\n",
      "|tt6057416 |videoGame|Final Fantasy VII Remake     |Final Fantasy VII Remake     |0      |2020     |\\N     |\\N            |Action,Adventure,Fantasy|9.1          |2749    |[Action, Adventure, Fantasy]|Adventure|\n",
      "+----------+---------+-----------------------------+-----------------------------+-------+---------+-------+--------------+------------------------+-------------+--------+----------------------------+---------+\n",
      "only showing top 5 rows\n",
      "\n"
     ]
    },
    {
     "name": "stderr",
     "output_type": "stream",
     "text": [
      "\r",
      "                                                                                \r"
     ]
    }
   ],
   "source": [
    "df_genero.filter(\"genre='Adventure' and titleType = 'videoGame' and startYear = 2020\")\\\n",
    "        .orderBy(\"averageRating\", ascending = False)\\\n",
    "        .show(5, False)"
   ]
  },
  {
   "cell_type": "code",
   "execution_count": 66,
   "id": "f99e71bf",
   "metadata": {},
   "outputs": [
    {
     "name": "stderr",
     "output_type": "stream",
     "text": [
      "                                                                                \r"
     ]
    },
    {
     "data": {
      "text/plain": [
       "3931670"
      ]
     },
     "execution_count": 66,
     "metadata": {},
     "output_type": "execute_result"
    }
   ],
   "source": [
    "df_titles.select('primaryTitle').distinct().count()"
   ]
  },
  {
   "cell_type": "code",
   "execution_count": 68,
   "id": "7ca8a158",
   "metadata": {},
   "outputs": [
    {
     "name": "stderr",
     "output_type": "stream",
     "text": [
      "[Stage 141:===============================================>         (5 + 1) / 6]\r"
     ]
    },
    {
     "name": "stdout",
     "output_type": "stream",
     "text": [
      "+-------+-----------------+\n",
      "|summary|   runtimeMinutes|\n",
      "+-------+-----------------+\n",
      "|  count|           250127|\n",
      "|   mean|92.79938555059914|\n",
      "| stddev|57.18982244754778|\n",
      "|    min|                1|\n",
      "|    max|               \\N|\n",
      "+-------+-----------------+\n",
      "\n"
     ]
    },
    {
     "name": "stderr",
     "output_type": "stream",
     "text": [
      "\r",
      "                                                                                \r"
     ]
    }
   ],
   "source": [
    "df_titles.filter(\"isAdult = 1\").describe(\"runtimeMinutes\").show()"
   ]
  },
  {
   "cell_type": "code",
   "execution_count": 69,
   "id": "6da6adc9",
   "metadata": {},
   "outputs": [
    {
     "name": "stderr",
     "output_type": "stream",
     "text": [
      "                                                                                \r"
     ]
    },
    {
     "data": {
      "text/plain": [
       "125056"
      ]
     },
     "execution_count": 69,
     "metadata": {},
     "output_type": "execute_result"
    }
   ],
   "source": [
    "df_titles.filter(\"primaryTitle <> originalTitle\").count()"
   ]
  },
  {
   "cell_type": "code",
   "execution_count": 71,
   "id": "ad091f2c",
   "metadata": {},
   "outputs": [
    {
     "name": "stderr",
     "output_type": "stream",
     "text": [
      "[Stage 147:===============================================>         (5 + 1) / 6]\r"
     ]
    },
    {
     "name": "stdout",
     "output_type": "stream",
     "text": [
      "+----------+---------+-----------------------------------------------------------------------------------------------------------------------------------------------------------------------------------------------------------------------------------------------------------------------------------------------------------------------------------------------------------------------------------------------------------------------------------+-----------------------------------------------------------------------------------------------------------------------------------------------------------------------------------------------------------------------------------------------------------------------------------------------------------------------------------------------------------------------------------------------------------------------------------+-------+---------+-------+--------------+-----------+\n",
      "|tconst    |titleType|primaryTitle                                                                                                                                                                                                                                                                                                                                                                                                                       |originalTitle                                                                                                                                                                                                                                                                                                                                                                                                                      |isAdult|startYear|endYear|runtimeMinutes|genres     |\n",
      "+----------+---------+-----------------------------------------------------------------------------------------------------------------------------------------------------------------------------------------------------------------------------------------------------------------------------------------------------------------------------------------------------------------------------------------------------------------------------------+-----------------------------------------------------------------------------------------------------------------------------------------------------------------------------------------------------------------------------------------------------------------------------------------------------------------------------------------------------------------------------------------------------------------------------------+-------+---------+-------+--------------+-----------+\n",
      "|tt12985206|video    |Otoko wa chi _ ko de handan suru hentai tsuma!!!->[Ten'nen yuru fuwa & fuwafuwa kokuho-kyu-bi kyonyu (H)& bikubiku keiren chozetsu binkan ma _ ko] × [majimede benkyo-dzukedatta seishun jidai no hando ga sugo sugiru inran taishitsu] × [uwaki no kage ga taenai otto no fuman + yokkyu fuman de jitaku ni tsukunari sokko sekkususutato] dan'na no kitaku jikan girigirimade tsudzuku chozetsu-chu dashi 4 renpatsu! ! ! No maki|Otoko wa chi _ ko de handan suru hentai tsuma!!!->[Ten'nen yuru fuwa & fuwafuwa kokuho-kyu-bi kyonyu (H)& bikubiku keiren chozetsu binkan ma _ ko] × [majimede benkyo-dzukedatta seishun jidai no hando ga sugo sugiru inran taishitsu] × [uwaki no kage ga taenai otto no fuman + yokkyu fuman de jitaku ni tsukunari sokko sekkususutato] dan'na no kitaku jikan girigirimade tsudzuku chozetsu-chu dashi 4 renpatsu! ! ! No maki|1      |2020     |\\N     |99            |Adult      |\n",
      "|tt13007080|video    |Creampie Volunteers! Meet an Ultra Perverted Creampie-Addicted Girl Who Wants Dirty Old Men She Just Met to Pump Their Cum Into Her AV DEBUT the Eagerly Awaited Second Girl Aya, A 22 Year Old Resident of Iwate Prefecture, and A Natural Airhead College Girl with E Cup Tits in Addition to Her Wishes for A Creampie, She Also Has A Rape Fetish 13 Genuine Creampie Cum Shots in A College Girl Who's Asking for It          |Creampie Volunteers! Meet an Ultra Perverted Creampie-Addicted Girl Who Wants Dirty Old Men She Just Met to Pump Their Cum Into Her AV DEBUT the Eagerly Awaited Second Girl Aya, A 22 Year Old Resident of Iwate Prefecture, and A Natural Airhead College Girl with E Cup Tits in Addition to Her Wishes for A Creampie, She Also Has A Rape Fetish 13 Genuine Creampie Cum Shots in A College Girl Who's Asking for It          |1      |2015     |\\N     |238           |Adult      |\n",
      "|tt7727908 |video    |Yufukuna kurashi kara gokuhin seikatsu e kyu tenraku! Chichi no kaisha ga tosan shite shakkin * sen man-en! Byojakuna haha wa netakiri... 18-sai moto ojosama ga ototo no gakuhi o kasegu tame, shiritsu no meimon koko o chutai shite kesshinokakugode AV shutsuen! Hatsu go kkun 5 renpatsu! Nodo oku irama-hatsu 18 shurui no omocha de iki gomon! Denma jigoku shisshin kuritorisu bishonure sukusui hatsu shiofuki!           |Yufukuna kurashi kara gokuhin seikatsu e kyu tenraku! Chichi no kaisha ga tosan shite shakkin * sen man-en! Byojakuna haha wa netakiri... 18-sai moto ojosama ga ototo no gakuhi o kasegu tame, shiritsu no meimon koko o chutai shite kesshinokakugode AV shutsuen! Hatsu go kkun 5 renpatsu! Nodo oku irama-hatsu 18 shurui no omocha de iki gomon! Denma jigoku shisshin kuritorisu bishonure sukusui hatsu shiofuki!           |1      |2013     |\\N     |129           |Adult,Drama|\n",
      "|tt12870546|video    |An Ultra K-Cup Titty College Girl A Private Video Session 'I Live in the Country, and I Get Teased Just for Having Big Tits' It Was Her First Private Video Session, and She Was Feeling Insecure About Her Titties, But When I Praised the Hell Out of Her Big Tits, These Colossal Tits Girls Paid Me Back in Installments of Creampie Sex! Yuri-chan (20 Years Old) Hometown: Wakayama Occupation: College Student              |An Ultra K-Cup Titty College Girl A Private Video Session 'I Live in the Country, and I Get Teased Just for Having Big Tits' It Was Her First Private Video Session, and She Was Feeling Insecure About Her Titties, But When I Praised the Hell Out of Her Big Tits, These Colossal Tits Girls Paid Me Back in Installments of Creampie Sex! Yuri-chan (20 Years Old) Hometown: Wakayama Occupation: College Student              |1      |2020     |\\N     |118           |Adult      |\n",
      "|tt12866892|video    |I'm A Dirty Old Man, and When I Drugged These 7 Ladies Living in A Shared Living House, They Transformed Into Horny Sluts! It Was Like A Harlem, Because They Were All Cumming for My Cock! I'm A Dirty Old Man, But I Don't Even Have Kids or A Girlfriend, and I've Been Living Alone Now for 20 Years Since I Don't Have A Family to Live with Me, I Sought Out the Classifieds and Found These Young Girls...                  |I'm A Dirty Old Man, and When I Drugged These 7 Ladies Living in A Shared Living House, They Transformed Into Horny Sluts! It Was Like A Harlem, Because They Were All Cumming for My Cock! I'm A Dirty Old Man, But I Don't Even Have Kids or A Girlfriend, and I've Been Living Alone Now for 20 Years Since I Don't Have A Family to Live with Me, I Sought Out the Classifieds and Found These Young Girls...                  |1      |2016     |\\N     |\\N            |Adult      |\n",
      "+----------+---------+-----------------------------------------------------------------------------------------------------------------------------------------------------------------------------------------------------------------------------------------------------------------------------------------------------------------------------------------------------------------------------------------------------------------------------------+-----------------------------------------------------------------------------------------------------------------------------------------------------------------------------------------------------------------------------------------------------------------------------------------------------------------------------------------------------------------------------------------------------------------------------------+-------+---------+-------+--------------+-----------+\n",
      "only showing top 5 rows\n",
      "\n"
     ]
    },
    {
     "name": "stderr",
     "output_type": "stream",
     "text": [
      "\r",
      "                                                                                \r"
     ]
    }
   ],
   "source": [
    "df_titles.orderBy(F.length(\"primaryTitle\").desc()).show(5, False)"
   ]
  },
  {
   "cell_type": "code",
   "execution_count": 72,
   "id": "2ca3fd9f",
   "metadata": {},
   "outputs": [
    {
     "name": "stderr",
     "output_type": "stream",
     "text": [
      "[Stage 152:>                                                        (0 + 2) / 2]\r"
     ]
    },
    {
     "name": "stdout",
     "output_type": "stream",
     "text": [
      "+---------+--------+\n",
      "|tconst   |numVotes|\n",
      "+---------+--------+\n",
      "|tt0111161|2449517 |\n",
      "|tt0468569|2405191 |\n",
      "|tt1375666|2157649 |\n",
      "|tt0137523|1930108 |\n",
      "|tt0110912|1898801 |\n",
      "+---------+--------+\n",
      "only showing top 5 rows\n",
      "\n"
     ]
    },
    {
     "name": "stderr",
     "output_type": "stream",
     "text": [
      "\r",
      "[Stage 152:============================>                            (1 + 1) / 2]\r",
      "\r",
      "                                                                                \r"
     ]
    }
   ],
   "source": [
    "df_join.select(\"tconst\", \"numVotes\").orderBy(\"numVotes\", ascending = False).show(5, False)"
   ]
  },
  {
   "cell_type": "code",
   "execution_count": 76,
   "id": "c411bfe3",
   "metadata": {},
   "outputs": [
    {
     "name": "stderr",
     "output_type": "stream",
     "text": [
      "[Stage 175:>                                                        (0 + 2) / 2]\r"
     ]
    },
    {
     "name": "stdout",
     "output_type": "stream",
     "text": [
      "+-------+-----------------+\n",
      "|summary|    averageRating|\n",
      "+-------+-----------------+\n",
      "|  count|          1182639|\n",
      "|   mean|6.917028357766534|\n",
      "| stddev|1.397496457577608|\n",
      "|    min|              1.0|\n",
      "|    max|             10.0|\n",
      "+-------+-----------------+\n",
      "\n"
     ]
    },
    {
     "name": "stderr",
     "output_type": "stream",
     "text": [
      "\r",
      "[Stage 175:============================>                            (1 + 1) / 2]\r",
      "\r",
      "                                                                                \r"
     ]
    }
   ],
   "source": [
    "df_join.describe(\"averageRating\").show()"
   ]
  }
 ],
 "metadata": {
  "kernelspec": {
   "display_name": "Python 3 (ipykernel)",
   "language": "python",
   "name": "python3"
  },
  "language_info": {
   "codemirror_mode": {
    "name": "ipython",
    "version": 3
   },
   "file_extension": ".py",
   "mimetype": "text/x-python",
   "name": "python",
   "nbconvert_exporter": "python",
   "pygments_lexer": "ipython3",
   "version": "3.12.3"
  }
 },
 "nbformat": 4,
 "nbformat_minor": 5
}
